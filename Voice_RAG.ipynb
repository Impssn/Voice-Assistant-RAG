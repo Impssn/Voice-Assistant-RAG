{
 "cells": [
  {
   "cell_type": "code",
   "execution_count": 1,
   "id": "33adf885-024e-4e95-98ff-56f7d7d70e6b",
   "metadata": {},
   "outputs": [],
   "source": [
    "### requiremnts.txt\n",
    "        # pymilvus==2.5.10\n",
    "        # sentence-transformers==3.1.1\n",
    "        # langchain==0.1.13\n",
    "        # ollama==0.4.3\n",
    "        # python-docx==0.8.11\n",
    "        # pypdf==4.3.1\n",
    "        # SpeechRecognition==3.14.3\n",
    "        # PyAudio==0.2.14"
   ]
  },
  {
   "cell_type": "code",
   "execution_count": 2,
   "id": "09f00d8e-a586-4d2d-a126-e158d0c001ce",
   "metadata": {},
   "outputs": [
    {
     "name": "stderr",
     "output_type": "stream",
     "text": [
      "C:\\Users\\SathyaNarayanan\\AppData\\Local\\Programs\\Python\\Python312\\Lib\\site-packages\\sentence_transformers\\cross_encoder\\CrossEncoder.py:13: TqdmExperimentalWarning: Using `tqdm.autonotebook.tqdm` in notebook mode. Use `tqdm.tqdm` instead to force console mode (e.g. in jupyter console)\n",
      "  from tqdm.autonotebook import tqdm, trange\n"
     ]
    }
   ],
   "source": [
    "import warnings\n",
    "import os\n",
    "import time\n",
    "import speech_recognition as sr\n",
    "from langchain.document_loaders import PyPDFLoader\n",
    "from langchain.text_splitter import RecursiveCharacterTextSplitter\n",
    "from PyPDF2 import PdfReader\n",
    "from docx import Document\n",
    "from pymilvus import connections, utility, FieldSchema, CollectionSchema, DataType, Collection\n",
    "from sentence_transformers import SentenceTransformer\n",
    "from langchain.llms import Ollama\n",
    "from langchain.prompts import PromptTemplate\n",
    "\n",
    "# Suppress warnings\n",
    "warnings.filterwarnings('ignore')"
   ]
  },
  {
   "cell_type": "code",
   "execution_count": 3,
   "id": "1c31f895-f308-424c-afc9-2c23ba595208",
   "metadata": {},
   "outputs": [],
   "source": [
    "# Configuration\n",
    "MILVUS_HOST = \"localhost\"\n",
    "MILVUS_PORT = \"19530\"\n",
    "COLLECTION_NAME = \"voice_rag\"\n",
    "EMBEDDING_MODEL = \"all-MiniLM-L6-v2\"\n",
    "OLLAMA_MODEL = \"gemma2:2b\"\n",
    "OLLAMA_BASE_URL = \"http://localhost:11434\"\n",
    "CHUNK_SIZE = 500\n",
    "CHUNK_OVERLAP = 100"
   ]
  },
  {
   "cell_type": "code",
   "execution_count": 4,
   "id": "8e154fe0-a76c-4be6-b40b-e8f36e64bbba",
   "metadata": {},
   "outputs": [],
   "source": [
    "# Initialize speech recognizer\n",
    "recognizer = sr.Recognizer()\n",
    "microphone = sr.Microphone()"
   ]
  },
  {
   "cell_type": "code",
   "execution_count": 5,
   "id": "6f0b9857-8c3d-4364-a48a-67622880cfa2",
   "metadata": {},
   "outputs": [],
   "source": [
    "def get_voice_command():\n",
    "    \"\"\"Capture voice input and convert to text\"\"\"\n",
    "    with microphone as source:\n",
    "        print(\"\\nListening... (speak your question)\")\n",
    "        recognizer.adjust_for_ambient_noise(source)\n",
    "        audio = recognizer.listen(source, timeout=5, phrase_time_limit=10)\n",
    "    \n",
    "    try:\n",
    "        question = recognizer.recognize_google(audio)\n",
    "        print(f\"\\nYou asked: {question}\")\n",
    "        return question\n",
    "    except sr.UnknownValueError:\n",
    "        print(\"Sorry, I didn't understand that.\")\n",
    "        return None\n",
    "    except sr.RequestError:\n",
    "        print(\"Speech service unavailable.\")\n",
    "        return None\n",
    "    except Exception as e:\n",
    "        print(f\"Error in voice recognition: {e}\")\n",
    "        return None"
   ]
  },
  {
   "cell_type": "code",
   "execution_count": 6,
   "id": "8725dc4f-8ef2-430c-bac5-64720b45cacd",
   "metadata": {},
   "outputs": [],
   "source": [
    "def load_pdf(pdf_path):\n",
    "    try:\n",
    "        loader = PyPDFLoader(pdf_path)\n",
    "        pages = loader.load()\n",
    "        return \"\\n\".join([page.page_content for page in pages])\n",
    "    except Exception as e:\n",
    "        print(f\"Error loading PDF: {e}\")\n",
    "        return None"
   ]
  },
  {
   "cell_type": "code",
   "execution_count": 7,
   "id": "1ccd1973-16ed-49e4-af7a-6397e06ab7a6",
   "metadata": {},
   "outputs": [],
   "source": [
    "def load_docx(docx_path):\n",
    "    try:\n",
    "        doc = Document(docx_path)\n",
    "        return \"\\n\".join([para.text for para in doc.paragraphs if para.text.strip()])\n",
    "    except Exception as e:\n",
    "        print(f\"Error loading DOCX: {e}\")\n",
    "        return None"
   ]
  },
  {
   "cell_type": "code",
   "execution_count": 8,
   "id": "dc304571-41cb-4c27-9e41-5762b71b8c48",
   "metadata": {},
   "outputs": [],
   "source": [
    "def load_document(file_path):\n",
    "    if not os.path.exists(file_path):\n",
    "        print(f\"File not found: {file_path}\")\n",
    "        return None\n",
    "    if file_path.lower().endswith('.pdf'):\n",
    "        return load_pdf(file_path)\n",
    "    elif file_path.lower().endswith('.docx'):\n",
    "        return load_docx(file_path)\n",
    "    else:\n",
    "        print(\"Unsupported file format! Please provide a PDF or DOCX file.\")\n",
    "        return None"
   ]
  },
  {
   "cell_type": "code",
   "execution_count": 9,
   "id": "d0527d6f-ca0c-480c-ad40-ac176caf0111",
   "metadata": {},
   "outputs": [],
   "source": [
    "def split_text(text):\n",
    "    if not text:\n",
    "        return []\n",
    "    splitter = RecursiveCharacterTextSplitter(\n",
    "        chunk_size=CHUNK_SIZE,\n",
    "        chunk_overlap=CHUNK_OVERLAP,\n",
    "        length_function=len\n",
    "    )\n",
    "    return splitter.split_text(text)"
   ]
  },
  {
   "cell_type": "code",
   "execution_count": 10,
   "id": "0b0bc1f9-18ec-4455-81a2-01955bd12830",
   "metadata": {},
   "outputs": [],
   "source": [
    "def init_milvus():\n",
    "    connections.connect(host=MILVUS_HOST, port=MILVUS_PORT)\n",
    "    print(f\"Connected to Milvus at {MILVUS_HOST}:{MILVUS_PORT}\")"
   ]
  },
  {
   "cell_type": "code",
   "execution_count": 11,
   "id": "b72ffa26-9489-465d-b06a-40813867d45c",
   "metadata": {},
   "outputs": [],
   "source": [
    "def setup_milvus_collection(embedding_dim):\n",
    "    if utility.has_collection(COLLECTION_NAME):\n",
    "        utility.drop_collection(COLLECTION_NAME)\n",
    "    \n",
    "    fields = [\n",
    "        FieldSchema(name=\"id\", dtype=DataType.INT64, is_primary=True, auto_id=True),\n",
    "        FieldSchema(name=\"content\", dtype=DataType.VARCHAR, max_length=65535),\n",
    "        FieldSchema(name=\"embedding\", dtype=DataType.FLOAT_VECTOR, dim=embedding_dim)\n",
    "    ]\n",
    "    schema = CollectionSchema(fields, \"Voice RAG Collection\")\n",
    "    collection = Collection(COLLECTION_NAME, schema)\n",
    "    \n",
    "    index_params = {\n",
    "        \"index_type\": \"IVF_FLAT\",\n",
    "        \"metric_type\": \"L2\",\n",
    "        \"params\": {\"nlist\": 128}\n",
    "    }\n",
    "    collection.create_index(\"embedding\", index_params)\n",
    "    return collection"
   ]
  },
  {
   "cell_type": "code",
   "execution_count": 12,
   "id": "ebccefa1-9d1f-4309-b4f2-ec252ff72ccb",
   "metadata": {},
   "outputs": [],
   "source": [
    "def process_document(file_path):\n",
    "    print(f\"\\nProcessing document: {os.path.basename(file_path)}\")\n",
    "    text = load_document(file_path)\n",
    "    if not text:\n",
    "        return None\n",
    "    \n",
    "    print(f\"Loaded document with {len(text)} characters\")\n",
    "    chunks = split_text(text)\n",
    "    print(f\"Split into {len(chunks)} chunks\")\n",
    "    return chunks"
   ]
  },
  {
   "cell_type": "code",
   "execution_count": 13,
   "id": "04ebf861-e367-4f66-909c-ff0d321af8c8",
   "metadata": {},
   "outputs": [],
   "source": [
    "def stream_response(response):\n",
    "    for char in response:\n",
    "        print(char, end='', flush=True)\n",
    "        time.sleep(0.02)"
   ]
  },
  {
   "cell_type": "code",
   "execution_count": 14,
   "id": "37e2ba61-d05f-47b9-b545-81092b9aab06",
   "metadata": {},
   "outputs": [],
   "source": [
    "def main():    \n",
    "    # Document processing\n",
    "    file_path = input(\"Enter path to your document (PDF or DOCX): \").strip()\n",
    "    chunks = process_document(file_path)\n",
    "    if not chunks:\n",
    "        return\n",
    "    \n",
    "    # Initialize components\n",
    "    init_milvus()\n",
    "    st_model = SentenceTransformer(EMBEDDING_MODEL)\n",
    "    embeddings = st_model.encode(chunks, show_progress_bar=True)\n",
    "    collection = setup_milvus_collection(embeddings.shape[1])\n",
    "    \n",
    "    # Store embeddings\n",
    "    collection.insert([chunks, embeddings.tolist()])\n",
    "    collection.load()\n",
    "    print(f\"Stored {len(chunks)} chunks in Milvus\")\n",
    "    \n",
    "    # Initialize LLM\n",
    "    llm = Ollama(base_url=OLLAMA_BASE_URL, model=OLLAMA_MODEL)\n",
    "    \n",
    "    # Simple prompt template\n",
    "    prompt_template = \"\"\"Answer this question based on the context:\n",
    "    Context: {context}\n",
    "    Question: {question}\n",
    "    Answer concisely:\"\"\"\n",
    "    \n",
    "    prompt = PromptTemplate(template=prompt_template, input_variables=[\"context\", \"question\"])\n",
    "    \n",
    "    # Voice interaction loop\n",
    "    print(\"\\nVoice RAG system ready! Speak your questions...\")\n",
    "    while True:\n",
    "        question = get_voice_command()\n",
    "        if not question:\n",
    "            continue\n",
    "        if \"exit\" in question.lower() or \"quit\" in question.lower():\n",
    "            break\n",
    "        \n",
    "        # Search Milvus\n",
    "        query_embedding = st_model.encode([question])\n",
    "        results = collection.search(\n",
    "            data=query_embedding,\n",
    "            anns_field=\"embedding\",\n",
    "            param={\"metric_type\": \"L2\", \"params\": {\"nprobe\": 10}},\n",
    "            limit=3,\n",
    "            output_fields=[\"content\"]\n",
    "        )\n",
    "        \n",
    "        # Prepare context\n",
    "        context = \"\\n\".join([hit.entity.get(\"content\") for hit in results[0]])\n",
    "        \n",
    "        # Generate answer\n",
    "        answer = llm(prompt.format(context=context, question=question))\n",
    "        \n",
    "        # Print only the answer\n",
    "        stream_response(answer.strip())"
   ]
  },
  {
   "cell_type": "code",
   "execution_count": 15,
   "id": "ff03a2e5-bfa1-4140-9677-dbac99bc1fbd",
   "metadata": {},
   "outputs": [
    {
     "name": "stdin",
     "output_type": "stream",
     "text": [
      "Enter path to your document (PDF or DOCX):  test_data/CAG-test_data.docx\n"
     ]
    },
    {
     "name": "stdout",
     "output_type": "stream",
     "text": [
      "\n",
      "Processing document: CAG-test_data.docx\n",
      "Loaded document with 2944 characters\n",
      "Split into 10 chunks\n",
      "Connected to Milvus at localhost:19530\n"
     ]
    },
    {
     "data": {
      "application/vnd.jupyter.widget-view+json": {
       "model_id": "9b8aebee3b0e4ec3b5a2f685f0d9635b",
       "version_major": 2,
       "version_minor": 0
      },
      "text/plain": [
       "Batches:   0%|          | 0/1 [00:00<?, ?it/s]"
      ]
     },
     "metadata": {},
     "output_type": "display_data"
    },
    {
     "name": "stdout",
     "output_type": "stream",
     "text": [
      "Stored 10 chunks in Milvus\n",
      "\n",
      "Voice RAG system ready! Speak your questions...\n",
      "\n",
      "Listening... (speak your question)\n",
      "\n",
      "You asked: tell me about the key points of this document\n",
      "Here are the key points from the document:\n",
      "\n",
      "* **Autonomous Driving:** Advanced sensors (LiDAR, radar, cameras) enable vehicles to navigate complex environments without human input. This technology is expected to become more common on highways in the near future. \n",
      "* **Connected & Smart Vehicles:** V2X technology enables cars to communicate with other vehicles, infrastructure, and cloud platforms for increased efficiency and safety.  The document also mentions \"connected cars\" and the use of IoT. \n",
      "* **IoT and Connected Features:** The internet of things (IoT) is driving the development of \"connected cars\" which offer features like real-time traffic updates, remote diagnostics, and over-the-air software updates.\n",
      "\n",
      "\n",
      "**In short:**  The document discusses how technology is transforming vehicles into smart devices with increased safety, efficiency, and convenience.\n",
      "Listening... (speak your question)\n",
      "Sorry, I didn't understand that.\n",
      "\n",
      "Listening... (speak your question)\n",
      "\n",
      "You asked: exit\n"
     ]
    }
   ],
   "source": [
    "if __name__ == \"__main__\":\n",
    "    main()"
   ]
  },
  {
   "cell_type": "code",
   "execution_count": null,
   "id": "3870e952-e29b-449a-b0bd-e44b3504ffe0",
   "metadata": {},
   "outputs": [],
   "source": []
  }
 ],
 "metadata": {
  "kernelspec": {
   "display_name": "Python 3 (ipykernel)",
   "language": "python",
   "name": "python3"
  },
  "language_info": {
   "codemirror_mode": {
    "name": "ipython",
    "version": 3
   },
   "file_extension": ".py",
   "mimetype": "text/x-python",
   "name": "python",
   "nbconvert_exporter": "python",
   "pygments_lexer": "ipython3",
   "version": "3.12.7"
  }
 },
 "nbformat": 4,
 "nbformat_minor": 5
}
